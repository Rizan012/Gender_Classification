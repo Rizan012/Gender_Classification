{
 "cells": [
  {
   "cell_type": "code",
   "execution_count": null,
   "id": "553e1399-3481-44f8-856f-10e877d72996",
   "metadata": {},
   "outputs": [],
   "source": []
  }
 ],
 "metadata": {
  "kernelspec": {
   "display_name": "",
   "name": ""
  },
  "language_info": {
   "name": ""
  }
 },
 "nbformat": 4,
 "nbformat_minor": 5
}
